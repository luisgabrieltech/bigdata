{
  "cells": [
    {
      "cell_type": "code",
      "execution_count": null,
      "metadata": {
        "id": "G_SDw-uTTMST",
        "outputId": "87ae05de-7c32-4b4b-8ccd-daaaf0296388"
      },
      "outputs": [
        {
          "name": "stdout",
          "output_type": "stream",
          "text": [
            "<class 'str'>\n",
            "<class 'int'>\n"
          ]
        }
      ],
      "source": [
        "nome = \"camila\"\n",
        "idade = 35\n",
        "altura = 1.70\n",
        "print(type(nome))\n",
        "print(type(idade))\n",
        "print(type(altura))\n"
      ]
    },
    {
      "cell_type": "code",
      "execution_count": null,
      "metadata": {
        "id": "fdi8_KxWTMSV"
      },
      "outputs": [],
      "source": []
    },
    {
      "cell_type": "code",
      "execution_count": 1,
      "metadata": {
        "colab": {
          "base_uri": "https://localhost:8080/"
        },
        "id": "83TzTsqzTMSV",
        "outputId": "0cab23dc-aa57-47de-fb89-6ed47b687373"
      },
      "outputs": [
        {
          "output_type": "stream",
          "name": "stdout",
          "text": [
            "olá, labradorzinho\n"
          ]
        }
      ],
      "source": [
        "nome = \"labradorzinho\"\n",
        "idade = 20\n",
        "print(f\"olá, {nome}\")\n"
      ]
    },
    {
      "cell_type": "code",
      "execution_count": 2,
      "metadata": {
        "colab": {
          "base_uri": "https://localhost:8080/"
        },
        "id": "QNP2SXoKTMSV",
        "outputId": "7a2ce68b-2048-4892-b596-f93c973b64b4"
      },
      "outputs": [
        {
          "output_type": "stream",
          "name": "stdout",
          "text": [
            "39\n"
          ]
        }
      ],
      "source": [
        "idade1 = 14\n",
        "idade2 = 25\n",
        "\n",
        "somaIdades = idade1 + idade2\n",
        "print(somaIdades)"
      ]
    },
    {
      "cell_type": "code",
      "execution_count": 3,
      "metadata": {
        "colab": {
          "base_uri": "https://localhost:8080/"
        },
        "id": "6S_hc_kATMSV",
        "outputId": "20c4b3f3-d0fb-4bf5-e284-1ada20cc3164"
      },
      "outputs": [
        {
          "output_type": "stream",
          "name": "stdout",
          "text": [
            "-11\n",
            "840\n",
            "0.6857142857142857\n"
          ]
        }
      ],
      "source": [
        "idade1 = 24\n",
        "idade2 = 35\n",
        "\n",
        "print(idade1 - idade2 )\n",
        "print(idade1 * idade2 )\n",
        "print(idade1 / idade2 )"
      ]
    },
    {
      "cell_type": "code",
      "execution_count": 4,
      "metadata": {
        "colab": {
          "base_uri": "https://localhost:8080/"
        },
        "id": "tiHKyNxSTMSW",
        "outputId": "dd78f447-38b1-4ad7-9035-7bcec06b3460"
      },
      "outputs": [
        {
          "output_type": "stream",
          "name": "stdout",
          "text": [
            "34\n",
            "9\n",
            "96\n",
            "4.8\n"
          ]
        }
      ],
      "source": [
        "print(idade1 + 10 )\n",
        "print(idade1 - 15 )\n",
        "print(idade1 * 4 )\n",
        "print(idade1 / 5 )"
      ]
    },
    {
      "cell_type": "code",
      "execution_count": 5,
      "metadata": {
        "colab": {
          "base_uri": "https://localhost:8080/"
        },
        "id": "sYYhI3D7TMSW",
        "outputId": "4d097d9d-3c0a-4156-dde2-424d6af82397"
      },
      "outputs": [
        {
          "output_type": "stream",
          "name": "stdout",
          "text": [
            "118\n",
            "74.25\n",
            "38.25\n"
          ]
        }
      ],
      "source": [
        "print(2 *(idade1 + idade2))\n",
        "print(2 * idade1 + 3 *  idade2 / 4)\n",
        "print((2 * idade1 + 3 *  idade2) / 4)"
      ]
    },
    {
      "cell_type": "code",
      "execution_count": 6,
      "metadata": {
        "colab": {
          "base_uri": "https://localhost:8080/"
        },
        "id": "HZBZROEcTMSW",
        "outputId": "a0a2df1c-619c-4555-8b68-8d0edd2748a8"
      },
      "outputs": [
        {
          "output_type": "stream",
          "name": "stdout",
          "text": [
            "576\n",
            "225\n"
          ]
        }
      ],
      "source": [
        "print(idade1 ** 2)\n",
        "print(15 ** 2)"
      ]
    },
    {
      "cell_type": "code",
      "execution_count": 7,
      "metadata": {
        "colab": {
          "base_uri": "https://localhost:8080/"
        },
        "id": "-JoJxqpZTMSW",
        "outputId": "821fc265-e8ea-4282-af7b-f7ad9d4f5a4b"
      },
      "outputs": [
        {
          "output_type": "stream",
          "name": "stdout",
          "text": [
            "1\n",
            "1.4583333333333333\n"
          ]
        }
      ],
      "source": [
        "print(idade2 // idade1)\n",
        "print(idade2 / idade1)"
      ]
    },
    {
      "cell_type": "code",
      "execution_count": 8,
      "metadata": {
        "colab": {
          "base_uri": "https://localhost:8080/"
        },
        "id": "3XBsZQBwTMSW",
        "outputId": "8f39509a-5597-4dd7-ee84-bd8bfd35a0ea"
      },
      "outputs": [
        {
          "output_type": "stream",
          "name": "stdout",
          "text": [
            "11\n"
          ]
        }
      ],
      "source": [
        "print(idade2 % idade1)"
      ]
    },
    {
      "cell_type": "code",
      "execution_count": 9,
      "metadata": {
        "colab": {
          "base_uri": "https://localhost:8080/"
        },
        "id": "cqcU7-LbTMSW",
        "outputId": "811c3621-1c1b-49fb-c5cc-7b6dab8b55fe"
      },
      "outputs": [
        {
          "output_type": "stream",
          "name": "stdout",
          "text": [
            "Camila Dantas\n"
          ]
        }
      ],
      "source": [
        "nome = \"Camila\"\n",
        "sobrenome = \"Dantas\"\n",
        "print(nome + \" \" + sobrenome)"
      ]
    },
    {
      "cell_type": "code",
      "execution_count": 10,
      "metadata": {
        "colab": {
          "base_uri": "https://localhost:8080/"
        },
        "id": "61f1N17PTMSX",
        "outputId": "763f864e-7c6d-456b-8220-f15e13cd081b"
      },
      "outputs": [
        {
          "output_type": "stream",
          "name": "stdout",
          "text": [
            "Olá, Camila voce tem 39 anos.\n"
          ]
        }
      ],
      "source": [
        "print(f'Olá, {nome} voce tem {idade1 + 15} anos.')"
      ]
    }
  ],
  "metadata": {
    "kernelspec": {
      "display_name": "Python 3",
      "language": "python",
      "name": "python3"
    },
    "language_info": {
      "codemirror_mode": {
        "name": "ipython",
        "version": 3
      },
      "file_extension": ".py",
      "mimetype": "text/x-python",
      "name": "python",
      "nbconvert_exporter": "python",
      "pygments_lexer": "ipython3",
      "version": "3.12.0"
    },
    "colab": {
      "provenance": []
    }
  },
  "nbformat": 4,
  "nbformat_minor": 0
}