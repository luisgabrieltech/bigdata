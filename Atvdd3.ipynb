{
  "cells": [
    {
      "cell_type": "code",
      "execution_count": null,
      "metadata": {
        "id": "9yssLXb5UWgu"
      },
      "outputs": [],
      "source": [
        "import pandas as pd\n",
        "import numpy as np"
      ]
    },
    {
      "cell_type": "code",
      "execution_count": null,
      "metadata": {
        "id": "lp6uDassUWgv",
        "outputId": "4958bc8f-f944-4418-94f4-aee864a9ab15"
      },
      "outputs": [
        {
          "data": {
            "text/plain": [
              "0    10\n",
              "1     9\n",
              "2     8\n",
              "3     2\n",
              "4     5\n",
              "dtype: int64"
            ]
          },
          "execution_count": 3,
          "metadata": {},
          "output_type": "execute_result"
        }
      ],
      "source": [
        "serie1 = pd.Series([10, 9, 8, 2, 5])\n",
        "serie1"
      ]
    },
    {
      "cell_type": "markdown",
      "metadata": {
        "id": "7ZZEE0BGUWgw"
      },
      "source": [
        "Verifica os valores da serie criada"
      ]
    },
    {
      "cell_type": "code",
      "execution_count": null,
      "metadata": {
        "id": "byLmna9OUWgw",
        "outputId": "30bafa0d-7c41-4a44-f306-23bef8eeb5a1"
      },
      "outputs": [
        {
          "data": {
            "text/plain": [
              "array([10,  9,  8,  2,  5], dtype=int64)"
            ]
          },
          "execution_count": 4,
          "metadata": {},
          "output_type": "execute_result"
        }
      ],
      "source": [
        "serie1.values"
      ]
    },
    {
      "cell_type": "markdown",
      "metadata": {
        "id": "ZjuWmvReUWgw"
      },
      "source": [
        "Verifica infomações do index"
      ]
    },
    {
      "cell_type": "code",
      "execution_count": null,
      "metadata": {
        "id": "E8kYN-ZrUWgw"
      },
      "outputs": [],
      "source": [
        "serie1.index"
      ]
    },
    {
      "cell_type": "markdown",
      "metadata": {
        "id": "noi7SnZqUWgw"
      },
      "source": [
        "Cria series aleatorias"
      ]
    },
    {
      "cell_type": "code",
      "execution_count": null,
      "metadata": {
        "id": "tW-VAbBEUWgx"
      },
      "outputs": [],
      "source": [
        "serie2 = pd.Series(np.random.rand(10), index=nparange(1, 11))\n",
        "serie2"
      ]
    },
    {
      "cell_type": "markdown",
      "metadata": {
        "id": "IZSW19z7UWgx"
      },
      "source": [
        "Criação de serie com o index predefinido"
      ]
    },
    {
      "cell_type": "code",
      "execution_count": null,
      "metadata": {
        "id": "-NEYUUxMUWgx"
      },
      "outputs": [],
      "source": [
        "serie2 = pd.Series([4, 7, 6, 3], index=['a', 'b', 'c', 'd'])\n",
        "serie2"
      ]
    },
    {
      "cell_type": "markdown",
      "metadata": {
        "id": "xJw5u9S5UWgx"
      },
      "source": [
        "Acessar um serie com o index"
      ]
    },
    {
      "cell_type": "code",
      "execution_count": null,
      "metadata": {
        "id": "4pE9fqKnUWgx"
      },
      "outputs": [],
      "source": [
        "serie2['c']"
      ]
    },
    {
      "cell_type": "code",
      "execution_count": null,
      "metadata": {
        "id": "WpZRDVKAUWgx"
      },
      "outputs": [],
      "source": [
        "capitais = {\n",
        "    'Pernambuco': 'Recife',\n",
        "    'Paraíba': 'João Pessoa',\n",
        "    'Ceará': 'Fortaleza',\n",
        "    'Bahia': 'Salvador',\n",
        "    'Alagoas': 'Maceió'\n",
        "}"
      ]
    },
    {
      "cell_type": "code",
      "execution_count": null,
      "metadata": {
        "id": "cj-WAOjpUWgx"
      },
      "outputs": [],
      "source": [
        "serie3 = pd.Series(capitais)\n",
        "serie3"
      ]
    },
    {
      "cell_type": "code",
      "execution_count": null,
      "metadata": {
        "id": "dpGs1_68UWgx"
      },
      "outputs": [],
      "source": [
        "type(serie3)"
      ]
    },
    {
      "cell_type": "code",
      "execution_count": null,
      "metadata": {
        "id": "6NoGQioGUWgy"
      },
      "outputs": [],
      "source": [
        "dictEmpresas = {\n",
        "    'Apple': 947.062,\n",
        "    'Google': 819.573,\n",
        "    'Amazon': 705.646,\n",
        "    'Microsoft': 611.460,\n",
        "    'Tencent': 214.023,\n",
        "    'McDonalds': 196.526,\n",
        "    'Visa': 191.032,\n",
        "    'Facebook': 186.241,\n",
        "    'Alibaba': 169.966,\n",
        "    'Louis Vuitton': 124.273\n",
        "    }"
      ]
    },
    {
      "cell_type": "code",
      "execution_count": null,
      "metadata": {
        "id": "910anwH_UWgy"
      },
      "outputs": [],
      "source": [
        "serie4 = pd.Series(dictEmpresas)\n",
        "serie4"
      ]
    },
    {
      "cell_type": "code",
      "execution_count": null,
      "metadata": {
        "id": "hXYu7vwYUWgy"
      },
      "outputs": [],
      "source": [
        "empresas = ['Apple', 'Google', 'Amazon', 'Microsoft', 'Tencent', 'McDonals', 'Visa', 'Facebook', 'Alibaba', 'Louis Vuitton']\n",
        "\n",
        "bilhoes=[947.062, 819.573, 705.646, 611.460, 214.023, 196.526, 191.032, 186.241, 169.966, 124.273]\n",
        "\n",
        "serie5 = pd.Series(bilhoes, index=empresas)\n",
        "serie5"
      ]
    },
    {
      "cell_type": "markdown",
      "metadata": {
        "id": "KS1k39klUWgy"
      },
      "source": [
        "Graphos"
      ]
    },
    {
      "cell_type": "code",
      "execution_count": null,
      "metadata": {
        "id": "jo-802HtUWgy"
      },
      "outputs": [],
      "source": [
        "import matplotlib.pyplot as plt"
      ]
    },
    {
      "cell_type": "code",
      "execution_count": null,
      "metadata": {
        "id": "-gIeYMW1UWgy"
      },
      "outputs": [],
      "source": [
        "serie5.plot()"
      ]
    }
  ],
  "metadata": {
    "kernelspec": {
      "display_name": "Python 3",
      "language": "python",
      "name": "python3"
    },
    "language_info": {
      "codemirror_mode": {
        "name": "ipython",
        "version": 3
      },
      "file_extension": ".py",
      "mimetype": "text/x-python",
      "name": "python",
      "nbconvert_exporter": "python",
      "pygments_lexer": "ipython3",
      "version": "3.12.2"
    },
    "colab": {
      "provenance": []
    }
  },
  "nbformat": 4,
  "nbformat_minor": 0
}