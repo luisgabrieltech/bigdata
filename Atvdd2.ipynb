{
  "cells": [
    {
      "cell_type": "code",
      "execution_count": null,
      "metadata": {
        "id": "URZWTlIeT5sr",
        "outputId": "b0d65e22-bc82-4df1-efe4-9a6161c7400c"
      },
      "outputs": [
        {
          "name": "stdout",
          "output_type": "stream",
          "text": [
            "['pitomba', 76, 4, True, 'oi', 92.3, 76]\n",
            "['pitomba', 76, 4, 'Cibele', True, 'oi', 92.3, 76]\n",
            "[99, 'pitomba', 76, 4, 'Cibele', True, 'oi', 92.3, 76]\n",
            "[99, 'pitomba', 76, 4, 'Cibele', 'oi', 92.3, 76]\n"
          ]
        },
        {
          "data": {
            "text/plain": [
              "5"
            ]
          },
          "execution_count": 15,
          "metadata": {},
          "output_type": "execute_result"
        }
      ],
      "source": [
        "minhaLista = [76, 92.3, \"oi\", True, 4, 76]\n",
        "minhaLista.append('pitomba')\n",
        "minhaLista.reverse()\n",
        "print(minhaLista)\n",
        "minhaLista.insert(3, \"Cibele\")\n",
        "print(minhaLista)\n",
        "minhaLista.insert(0, 99)\n",
        "print(minhaLista)\n",
        "\n",
        "minhaLista.remove(True)\n",
        "print(minhaLista)\n",
        "\n",
        "\n",
        "\n",
        "minhaLista.index(\"oi\")\n",
        "\n",
        "\n"
      ]
    },
    {
      "cell_type": "code",
      "execution_count": null,
      "metadata": {
        "id": "UUTdvr3FT5ss",
        "outputId": "acc25a92-63ee-4830-dc7f-20d6b9554044"
      },
      "outputs": [
        {
          "name": "stdout",
          "output_type": "stream",
          "text": [
            "<class 'dict'>\n"
          ]
        }
      ],
      "source": [
        "dicio = {'chave': 'valor'}\n",
        "\n",
        "print(type(dicio))"
      ]
    },
    {
      "cell_type": "code",
      "execution_count": null,
      "metadata": {
        "id": "QpXkCGtxT5st",
        "outputId": "11ac1e91-1f4b-4c75-b560-d308839df875"
      },
      "outputs": [
        {
          "data": {
            "text/plain": [
              "False"
            ]
          },
          "execution_count": 25,
          "metadata": {},
          "output_type": "execute_result"
        }
      ],
      "source": [
        "d = {'laranjas': 15, 'bananas': 35, 'siriguelas': 12}\n",
        "d['bananas']\n",
        "d['pitomba'] = 20\n",
        "d['pitomba']\n",
        "len(d)\n",
        "d\n",
        "'pitomba' in d\n",
        "\n",
        "del d['laranjas']\n",
        "\n",
        "'laranjas' in d"
      ]
    },
    {
      "cell_type": "code",
      "execution_count": null,
      "metadata": {
        "id": "WVoGzN5wT5st",
        "outputId": "b9ab4bb2-f8ea-4481-ae26-5955523ec904"
      },
      "outputs": [
        {
          "name": "stdout",
          "output_type": "stream",
          "text": [
            "[1, 2, 3, 4]\n",
            "['pinha', 'oiti coró', 'jaca', 'tamarindo', 6, 7, 8, 9]\n",
            "[0, 0, 0, 0]\n",
            "[1, 2, ['oi', 'tchau'], 1, 2, ['oi', 'tchau']]\n"
          ]
        }
      ],
      "source": [
        "frutas = ['pinha', 'oiti coró', 'jaca', 'tamarindo']\n",
        "print([1,2]+[3,4])\n",
        "print(frutas + [6,7,8,9])\n",
        "\n",
        "print([0] *4)\n",
        "\n",
        "print([1,2, ['oi', 'tchau']] * 2)"
      ]
    }
  ],
  "metadata": {
    "kernelspec": {
      "display_name": "Python 3",
      "language": "python",
      "name": "python3"
    },
    "language_info": {
      "codemirror_mode": {
        "name": "ipython",
        "version": 3
      },
      "file_extension": ".py",
      "mimetype": "text/x-python",
      "name": "python",
      "nbconvert_exporter": "python",
      "pygments_lexer": "ipython3",
      "version": "3.10.2"
    },
    "colab": {
      "provenance": []
    }
  },
  "nbformat": 4,
  "nbformat_minor": 0
}